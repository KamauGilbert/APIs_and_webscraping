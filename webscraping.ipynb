{
 "cells": [
  {
   "cell_type": "code",
   "execution_count": 2,
   "metadata": {},
   "outputs": [
    {
     "name": "stdout",
     "output_type": "stream",
     "text": [
      "Libraries imported successfully!\n"
     ]
    }
   ],
   "source": [
    "#importing libraries\n",
    "import pandas as pd\n",
    "import numpy as np\n",
    "def warn (*args, **kwargs):\n",
    "    pass\n",
    "import warnings\n",
    "warnings.warn= warn\n",
    "warnings.filterwarnings('ignore')\n",
    "print('Libraries imported successfully!')"
   ]
  },
  {
   "cell_type": "code",
   "execution_count": 3,
   "metadata": {},
   "outputs": [],
   "source": [
    "URL= 'https://web.archive.org/web/20230902185326/https://en.wikipedia.org/wiki/List_of_countries_by_GDP_%28nominal%29'"
   ]
  },
  {
   "cell_type": "code",
   "execution_count": 17,
   "metadata": {},
   "outputs": [
    {
     "name": "stdout",
     "output_type": "stream",
     "text": [
      "    Country/Territory UN region IMF[1][13]            World Bank[14]  \\\n",
      "    Country/Territory UN region   Estimate       Year       Estimate   \n",
      "0               World         —  105568776       2023      100562011   \n",
      "1       United States  Americas   26854599       2023       25462700   \n",
      "2               China      Asia   19373586  [n 1]2023       17963171   \n",
      "3               Japan      Asia    4409738       2023        4231141   \n",
      "4             Germany    Europe    4308854       2023        4072192   \n",
      "..                ...       ...        ...        ...            ...   \n",
      "209          Anguilla  Americas          —          —              —   \n",
      "210          Kiribati   Oceania        248       2023            223   \n",
      "211             Nauru   Oceania        151       2023            151   \n",
      "212        Montserrat  Americas          —          —              —   \n",
      "213            Tuvalu   Oceania         65       2023             60   \n",
      "\n",
      "               United Nations[15]             \n",
      "          Year           Estimate       Year  \n",
      "0         2022           96698005       2021  \n",
      "1         2022           23315081       2021  \n",
      "2    [n 3]2022           17734131  [n 1]2021  \n",
      "3         2022            4940878       2021  \n",
      "4         2022            4259935       2021  \n",
      "..         ...                ...        ...  \n",
      "209          —                303       2021  \n",
      "210       2022                227       2021  \n",
      "211       2022                155       2021  \n",
      "212          —                 72       2021  \n",
      "213       2022                 60       2021  \n",
      "\n",
      "[214 rows x 8 columns]\n"
     ]
    }
   ],
   "source": [
    "tables = pd.read_html(URL)\n",
    "df= tables[3]\n",
    "print(df)"
   ]
  },
  {
   "cell_type": "code",
   "execution_count": 18,
   "metadata": {},
   "outputs": [
    {
     "name": "stdout",
     "output_type": "stream",
     "text": [
      "           Country GDP (in Millions USD)\n",
      "1    United States              26854599\n",
      "2            China              19373586\n",
      "3            Japan               4409738\n",
      "4          Germany               4308854\n",
      "5            India               3736882\n",
      "6   United Kingdom               3158938\n",
      "7           France               2923489\n",
      "8            Italy               2169745\n",
      "9           Canada               2089672\n",
      "10          Brazil               2081235\n"
     ]
    }
   ],
   "source": [
    "#replacing the column headers with column numbers\n",
    "df.columns = range(df.shape[1])\n",
    "#retaining the columns containing the name of the country and the GDP value as quoted by IMF\n",
    "df= df[[0,2]]\n",
    "#retain rows with index 1-10 indicating top 10 economies in the world\n",
    "df= df.iloc[1:11,:]\n",
    "#assign column names as Country and GDP\n",
    "df.columns= ['Country', 'GDP (in Millions USD)']\n",
    "\n",
    "print(df)"
   ]
  },
  {
   "cell_type": "code",
   "execution_count": 20,
   "metadata": {},
   "outputs": [
    {
     "name": "stdout",
     "output_type": "stream",
     "text": [
      "           Country  GDP (in Billions USD)\n",
      "1    United States               26854.60\n",
      "2            China               19373.59\n",
      "3            Japan                4409.74\n",
      "4          Germany                4308.85\n",
      "5            India                3736.88\n",
      "6   United Kingdom                3158.94\n",
      "7           France                2923.49\n",
      "8            Italy                2169.74\n",
      "9           Canada                2089.67\n",
      "10          Brazil                2081.24\n"
     ]
    }
   ],
   "source": [
    "#converting the GD (in Millions USD) to GDP (in Billions USD)\n",
    "gdp_column= 'GDP (in Millions USD)'\n",
    "df['GDP (in Billions USD)'] = df[gdp_column].apply(lambda x: round(float(x.replace(',', '')) / 1000, 2) if isinstance(x, str) else round(x / 1000, 2))\n",
    "df.drop(columns=['GDP (in Millions USD)'], inplace=True)\n",
    "print(df)"
   ]
  },
  {
   "cell_type": "code",
   "execution_count": 22,
   "metadata": {},
   "outputs": [
    {
     "name": "stdout",
     "output_type": "stream",
     "text": [
      "DataFrame has been saved\n"
     ]
    }
   ],
   "source": [
    "#printing out the dataframe\n",
    "df.to_csv('Largest_economies.csv', index=False)\n",
    "\n",
    "print('DataFrame has been saved')"
   ]
  }
 ],
 "metadata": {
  "kernelspec": {
   "display_name": "venv",
   "language": "python",
   "name": "python3"
  },
  "language_info": {
   "codemirror_mode": {
    "name": "ipython",
    "version": 3
   },
   "file_extension": ".py",
   "mimetype": "text/x-python",
   "name": "python",
   "nbconvert_exporter": "python",
   "pygments_lexer": "ipython3",
   "version": "3.12.2"
  }
 },
 "nbformat": 4,
 "nbformat_minor": 2
}
